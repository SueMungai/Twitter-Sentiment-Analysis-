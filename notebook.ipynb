{
 "cells": [
  {
   "cell_type": "markdown",
   "metadata": {},
   "source": [
    "# 1. Business Understanding\n",
    "YouTube serves as a prominent platform for content consumption and interaction, fostering a rich\n",
    "ecosystem of discussions through comments. Understanding the sentiment of comments towards specific\n",
    "entities, such as video content or creators, is crucial for gauging audience reception and shaping content\n",
    "strategies effectively. Utilizing natural language processing (NLP) techniques, this project aims to analyze\n",
    "YouTube comments to discern sentiment towards targeted entities.\n",
    "\n",
    "### Objective:\n",
    "The objective of this internship project is to perform entity-level sentiment analysis on YouTube\n",
    "comments using provided training and validation datasets. Given a comment and a specified entity (e.g.,\n",
    "video ID or creator name), the task is to classify the sentiment of the comment as Positive, Negative, or\n",
    "Neutral, with messages irrelevant to the entity also categorized as Neutral.\n",
    "\n"
   ]
  },
  {
   "cell_type": "markdown",
   "metadata": {},
   "source": [
    "# 2. Data Understanding \n",
    "Data Description:\n",
    "- Tweet ID: A unique identifier for each comment tweet.\n",
    "- Borderlands: The entity of interest associated with the comment (e.g., video ID, creator name).\n",
    "- Sentiment: The sentiment label assigned to the comment regarding the specified entity. Three classes\n",
    "are present: Positive, Negative, Neutral. Messages irrelevant to the entity are categorized as Neutral.\n",
    "- Tweet Content: The textual content of the comment tweet."
   ]
  },
  {
   "cell_type": "code",
   "execution_count": 1,
   "metadata": {},
   "outputs": [
    {
     "name": "stderr",
     "output_type": "stream",
     "text": [
      "c:\\Users\\HP\\anaconda3\\lib\\site-packages\\scipy\\__init__.py:146: UserWarning: A NumPy version >=1.16.5 and <1.23.0 is required for this version of SciPy (detected version 1.26.4\n",
      "  warnings.warn(f\"A NumPy version >={np_minversion} and <{np_maxversion}\"\n"
     ]
    }
   ],
   "source": [
    "import numpy as np\n",
    "import pandas as pd\n",
    "\n",
    "import matplotlib.pyplot as plt\n",
    "import seaborn as sns\n",
    "\n",
    "import warnings"
   ]
  },
  {
   "cell_type": "markdown",
   "metadata": {},
   "source": [
    "### 2.1 Exploratory Data Analysis "
   ]
  },
  {
   "cell_type": "code",
   "execution_count": 2,
   "metadata": {},
   "outputs": [
    {
     "name": "stdout",
     "output_type": "stream",
     "text": [
      "Train data: (74681, 4)\n",
      "Validation data: (999, 4)\n"
     ]
    }
   ],
   "source": [
    "\n",
    "# Load training data\n",
    "train_data = pd.read_csv(\"twitter_training.csv\")\n",
    "\n",
    "# Load validation data\n",
    "validation_data = pd.read_csv(\"twitter_validation.csv\")\n",
    "\n",
    "print(\"Train data:\", train_data.shape)\n",
    "print(\"Validation data:\", validation_data.shape)"
   ]
  },
  {
   "cell_type": "code",
   "execution_count": 3,
   "metadata": {},
   "outputs": [
    {
     "data": {
      "text/html": [
       "<div>\n",
       "<style scoped>\n",
       "    .dataframe tbody tr th:only-of-type {\n",
       "        vertical-align: middle;\n",
       "    }\n",
       "\n",
       "    .dataframe tbody tr th {\n",
       "        vertical-align: top;\n",
       "    }\n",
       "\n",
       "    .dataframe thead th {\n",
       "        text-align: right;\n",
       "    }\n",
       "</style>\n",
       "<table border=\"1\" class=\"dataframe\">\n",
       "  <thead>\n",
       "    <tr style=\"text-align: right;\">\n",
       "      <th></th>\n",
       "      <th>2401</th>\n",
       "      <th>Borderlands</th>\n",
       "      <th>Positive</th>\n",
       "      <th>im getting on borderlands and i will murder you all ,</th>\n",
       "    </tr>\n",
       "  </thead>\n",
       "  <tbody>\n",
       "    <tr>\n",
       "      <th>0</th>\n",
       "      <td>2401</td>\n",
       "      <td>Borderlands</td>\n",
       "      <td>Positive</td>\n",
       "      <td>I am coming to the borders and I will kill you...</td>\n",
       "    </tr>\n",
       "    <tr>\n",
       "      <th>1</th>\n",
       "      <td>2401</td>\n",
       "      <td>Borderlands</td>\n",
       "      <td>Positive</td>\n",
       "      <td>im getting on borderlands and i will kill you ...</td>\n",
       "    </tr>\n",
       "    <tr>\n",
       "      <th>2</th>\n",
       "      <td>2401</td>\n",
       "      <td>Borderlands</td>\n",
       "      <td>Positive</td>\n",
       "      <td>im coming on borderlands and i will murder you...</td>\n",
       "    </tr>\n",
       "    <tr>\n",
       "      <th>3</th>\n",
       "      <td>2401</td>\n",
       "      <td>Borderlands</td>\n",
       "      <td>Positive</td>\n",
       "      <td>im getting on borderlands 2 and i will murder ...</td>\n",
       "    </tr>\n",
       "    <tr>\n",
       "      <th>4</th>\n",
       "      <td>2401</td>\n",
       "      <td>Borderlands</td>\n",
       "      <td>Positive</td>\n",
       "      <td>im getting into borderlands and i can murder y...</td>\n",
       "    </tr>\n",
       "  </tbody>\n",
       "</table>\n",
       "</div>"
      ],
      "text/plain": [
       "   2401  Borderlands  Positive  \\\n",
       "0  2401  Borderlands  Positive   \n",
       "1  2401  Borderlands  Positive   \n",
       "2  2401  Borderlands  Positive   \n",
       "3  2401  Borderlands  Positive   \n",
       "4  2401  Borderlands  Positive   \n",
       "\n",
       "  im getting on borderlands and i will murder you all ,  \n",
       "0  I am coming to the borders and I will kill you...     \n",
       "1  im getting on borderlands and i will kill you ...     \n",
       "2  im coming on borderlands and i will murder you...     \n",
       "3  im getting on borderlands 2 and i will murder ...     \n",
       "4  im getting into borderlands and i can murder y...     "
      ]
     },
     "metadata": {},
     "output_type": "display_data"
    },
    {
     "name": "stdout",
     "output_type": "stream",
     "text": [
      "<class 'pandas.core.frame.DataFrame'>\n",
      "RangeIndex: 74681 entries, 0 to 74680\n",
      "Data columns (total 4 columns):\n",
      " #   Column                                                 Non-Null Count  Dtype \n",
      "---  ------                                                 --------------  ----- \n",
      " 0   2401                                                   74681 non-null  int64 \n",
      " 1   Borderlands                                            74681 non-null  object\n",
      " 2   Positive                                               74681 non-null  object\n",
      " 3   im getting on borderlands and i will murder you all ,  73995 non-null  object\n",
      "dtypes: int64(1), object(3)\n",
      "memory usage: 2.3+ MB\n"
     ]
    },
    {
     "data": {
      "text/html": [
       "<div>\n",
       "<style scoped>\n",
       "    .dataframe tbody tr th:only-of-type {\n",
       "        vertical-align: middle;\n",
       "    }\n",
       "\n",
       "    .dataframe tbody tr th {\n",
       "        vertical-align: top;\n",
       "    }\n",
       "\n",
       "    .dataframe thead th {\n",
       "        text-align: right;\n",
       "    }\n",
       "</style>\n",
       "<table border=\"1\" class=\"dataframe\">\n",
       "  <thead>\n",
       "    <tr style=\"text-align: right;\">\n",
       "      <th></th>\n",
       "      <th>2401</th>\n",
       "    </tr>\n",
       "  </thead>\n",
       "  <tbody>\n",
       "    <tr>\n",
       "      <th>count</th>\n",
       "      <td>74681.000000</td>\n",
       "    </tr>\n",
       "    <tr>\n",
       "      <th>mean</th>\n",
       "      <td>6432.640149</td>\n",
       "    </tr>\n",
       "    <tr>\n",
       "      <th>std</th>\n",
       "      <td>3740.423819</td>\n",
       "    </tr>\n",
       "    <tr>\n",
       "      <th>min</th>\n",
       "      <td>1.000000</td>\n",
       "    </tr>\n",
       "    <tr>\n",
       "      <th>25%</th>\n",
       "      <td>3195.000000</td>\n",
       "    </tr>\n",
       "    <tr>\n",
       "      <th>50%</th>\n",
       "      <td>6422.000000</td>\n",
       "    </tr>\n",
       "    <tr>\n",
       "      <th>75%</th>\n",
       "      <td>9601.000000</td>\n",
       "    </tr>\n",
       "    <tr>\n",
       "      <th>max</th>\n",
       "      <td>13200.000000</td>\n",
       "    </tr>\n",
       "  </tbody>\n",
       "</table>\n",
       "</div>"
      ],
      "text/plain": [
       "               2401\n",
       "count  74681.000000\n",
       "mean    6432.640149\n",
       "std     3740.423819\n",
       "min        1.000000\n",
       "25%     3195.000000\n",
       "50%     6422.000000\n",
       "75%     9601.000000\n",
       "max    13200.000000"
      ]
     },
     "execution_count": 3,
     "metadata": {},
     "output_type": "execute_result"
    }
   ],
   "source": [
    "display(train_data.head())\n",
    "train_data.info()\n",
    "train_data.describe()"
   ]
  },
  {
   "cell_type": "code",
   "execution_count": 4,
   "metadata": {},
   "outputs": [
    {
     "data": {
      "text/html": [
       "<div>\n",
       "<style scoped>\n",
       "    .dataframe tbody tr th:only-of-type {\n",
       "        vertical-align: middle;\n",
       "    }\n",
       "\n",
       "    .dataframe tbody tr th {\n",
       "        vertical-align: top;\n",
       "    }\n",
       "\n",
       "    .dataframe thead th {\n",
       "        text-align: right;\n",
       "    }\n",
       "</style>\n",
       "<table border=\"1\" class=\"dataframe\">\n",
       "  <thead>\n",
       "    <tr style=\"text-align: right;\">\n",
       "      <th></th>\n",
       "      <th>3364</th>\n",
       "      <th>Facebook</th>\n",
       "      <th>Irrelevant</th>\n",
       "      <th>I mentioned on Facebook that I was struggling for motivation to go for a run the other day, which has been translated by Tom’s great auntie as ‘Hayley can’t get out of bed’ and told to his grandma, who now thinks I’m a lazy, terrible person 🤣</th>\n",
       "    </tr>\n",
       "  </thead>\n",
       "  <tbody>\n",
       "    <tr>\n",
       "      <th>0</th>\n",
       "      <td>352</td>\n",
       "      <td>Amazon</td>\n",
       "      <td>Neutral</td>\n",
       "      <td>BBC News - Amazon boss Jeff Bezos rejects clai...</td>\n",
       "    </tr>\n",
       "    <tr>\n",
       "      <th>1</th>\n",
       "      <td>8312</td>\n",
       "      <td>Microsoft</td>\n",
       "      <td>Negative</td>\n",
       "      <td>@Microsoft Why do I pay for WORD when it funct...</td>\n",
       "    </tr>\n",
       "    <tr>\n",
       "      <th>2</th>\n",
       "      <td>4371</td>\n",
       "      <td>CS-GO</td>\n",
       "      <td>Negative</td>\n",
       "      <td>CSGO matchmaking is so full of closet hacking,...</td>\n",
       "    </tr>\n",
       "    <tr>\n",
       "      <th>3</th>\n",
       "      <td>4433</td>\n",
       "      <td>Google</td>\n",
       "      <td>Neutral</td>\n",
       "      <td>Now the President is slapping Americans in the...</td>\n",
       "    </tr>\n",
       "    <tr>\n",
       "      <th>4</th>\n",
       "      <td>6273</td>\n",
       "      <td>FIFA</td>\n",
       "      <td>Negative</td>\n",
       "      <td>Hi @EAHelp I’ve had Madeleine McCann in my cel...</td>\n",
       "    </tr>\n",
       "  </tbody>\n",
       "</table>\n",
       "</div>"
      ],
      "text/plain": [
       "   3364   Facebook Irrelevant  \\\n",
       "0   352     Amazon    Neutral   \n",
       "1  8312  Microsoft   Negative   \n",
       "2  4371      CS-GO   Negative   \n",
       "3  4433     Google    Neutral   \n",
       "4  6273       FIFA   Negative   \n",
       "\n",
       "  I mentioned on Facebook that I was struggling for motivation to go for a run the other day, which has been translated by Tom’s great auntie as ‘Hayley can’t get out of bed’ and told to his grandma, who now thinks I’m a lazy, terrible person 🤣  \n",
       "0  BBC News - Amazon boss Jeff Bezos rejects clai...                                                                                                                                                                                                  \n",
       "1  @Microsoft Why do I pay for WORD when it funct...                                                                                                                                                                                                  \n",
       "2  CSGO matchmaking is so full of closet hacking,...                                                                                                                                                                                                  \n",
       "3  Now the President is slapping Americans in the...                                                                                                                                                                                                  \n",
       "4  Hi @EAHelp I’ve had Madeleine McCann in my cel...                                                                                                                                                                                                  "
      ]
     },
     "metadata": {},
     "output_type": "display_data"
    },
    {
     "name": "stdout",
     "output_type": "stream",
     "text": [
      "<class 'pandas.core.frame.DataFrame'>\n",
      "RangeIndex: 999 entries, 0 to 998\n",
      "Data columns (total 4 columns):\n",
      " #   Column                                                                                                                                                                                                                                              Non-Null Count  Dtype \n",
      "---  ------                                                                                                                                                                                                                                              --------------  ----- \n",
      " 0   3364                                                                                                                                                                                                                                                999 non-null    int64 \n",
      " 1   Facebook                                                                                                                                                                                                                                            999 non-null    object\n",
      " 2   Irrelevant                                                                                                                                                                                                                                          999 non-null    object\n",
      " 3   I mentioned on Facebook that I was struggling for motivation to go for a run the other day, which has been translated by Tom’s great auntie as ‘Hayley can’t get out of bed’ and told to his grandma, who now thinks I’m a lazy, terrible person 🤣  999 non-null    object\n",
      "dtypes: int64(1), object(3)\n",
      "memory usage: 31.3+ KB\n"
     ]
    },
    {
     "data": {
      "text/html": [
       "<div>\n",
       "<style scoped>\n",
       "    .dataframe tbody tr th:only-of-type {\n",
       "        vertical-align: middle;\n",
       "    }\n",
       "\n",
       "    .dataframe tbody tr th {\n",
       "        vertical-align: top;\n",
       "    }\n",
       "\n",
       "    .dataframe thead th {\n",
       "        text-align: right;\n",
       "    }\n",
       "</style>\n",
       "<table border=\"1\" class=\"dataframe\">\n",
       "  <thead>\n",
       "    <tr style=\"text-align: right;\">\n",
       "      <th></th>\n",
       "      <th>3364</th>\n",
       "    </tr>\n",
       "  </thead>\n",
       "  <tbody>\n",
       "    <tr>\n",
       "      <th>count</th>\n",
       "      <td>999.000000</td>\n",
       "    </tr>\n",
       "    <tr>\n",
       "      <th>mean</th>\n",
       "      <td>6435.159159</td>\n",
       "    </tr>\n",
       "    <tr>\n",
       "      <th>std</th>\n",
       "      <td>3728.912226</td>\n",
       "    </tr>\n",
       "    <tr>\n",
       "      <th>min</th>\n",
       "      <td>6.000000</td>\n",
       "    </tr>\n",
       "    <tr>\n",
       "      <th>25%</th>\n",
       "      <td>3241.500000</td>\n",
       "    </tr>\n",
       "    <tr>\n",
       "      <th>50%</th>\n",
       "      <td>6560.000000</td>\n",
       "    </tr>\n",
       "    <tr>\n",
       "      <th>75%</th>\n",
       "      <td>9662.500000</td>\n",
       "    </tr>\n",
       "    <tr>\n",
       "      <th>max</th>\n",
       "      <td>13197.000000</td>\n",
       "    </tr>\n",
       "  </tbody>\n",
       "</table>\n",
       "</div>"
      ],
      "text/plain": [
       "               3364\n",
       "count    999.000000\n",
       "mean    6435.159159\n",
       "std     3728.912226\n",
       "min        6.000000\n",
       "25%     3241.500000\n",
       "50%     6560.000000\n",
       "75%     9662.500000\n",
       "max    13197.000000"
      ]
     },
     "execution_count": 4,
     "metadata": {},
     "output_type": "execute_result"
    }
   ],
   "source": [
    "display(validation_data.head())\n",
    "validation_data.info()\n",
    "validation_data.describe()"
   ]
  },
  {
   "cell_type": "code",
   "execution_count": 5,
   "metadata": {},
   "outputs": [
    {
     "name": "stdout",
     "output_type": "stream",
     "text": [
      "       Tweet ID  Borderlands Sentiment  \\\n",
      "0          2401  Borderlands  Positive   \n",
      "1          2401  Borderlands  Positive   \n",
      "2          2401  Borderlands  Positive   \n",
      "3          2401  Borderlands  Positive   \n",
      "4          2401  Borderlands  Positive   \n",
      "...         ...          ...       ...   \n",
      "74676      9200       Nvidia  Positive   \n",
      "74677      9200       Nvidia  Positive   \n",
      "74678      9200       Nvidia  Positive   \n",
      "74679      9200       Nvidia  Positive   \n",
      "74680      9200       Nvidia  Positive   \n",
      "\n",
      "                                                   Tweet  \n",
      "0      I am coming to the borders and I will kill you...  \n",
      "1      im getting on borderlands and i will kill you ...  \n",
      "2      im coming on borderlands and i will murder you...  \n",
      "3      im getting on borderlands 2 and i will murder ...  \n",
      "4      im getting into borderlands and i can murder y...  \n",
      "...                                                  ...  \n",
      "74676  Just realized that the Windows partition of my...  \n",
      "74677  Just realized that my Mac window partition is ...  \n",
      "74678  Just realized the windows partition of my Mac ...  \n",
      "74679  Just realized between the windows partition of...  \n",
      "74680  Just like the windows partition of my Mac is l...  \n",
      "\n",
      "[74681 rows x 4 columns]\n"
     ]
    }
   ],
   "source": [
    "# Add the new column names on top\n",
    "new_columns = ['Tweet ID', 'Borderlands', 'Sentiment', 'Tweet']\n",
    "train_data.columns = new_columns\n",
    "\n",
    "print(train_data)"
   ]
  },
  {
   "cell_type": "code",
   "execution_count": 6,
   "metadata": {},
   "outputs": [
    {
     "name": "stdout",
     "output_type": "stream",
     "text": [
      "     Tweet ID          Borderlands   Sentiment  \\\n",
      "0         352               Amazon     Neutral   \n",
      "1        8312            Microsoft    Negative   \n",
      "2        4371                CS-GO    Negative   \n",
      "3        4433               Google     Neutral   \n",
      "4        6273                 FIFA    Negative   \n",
      "..        ...                  ...         ...   \n",
      "994      4891  GrandTheftAuto(GTA)  Irrelevant   \n",
      "995      4359                CS-GO  Irrelevant   \n",
      "996      2652          Borderlands    Positive   \n",
      "997      8069            Microsoft    Positive   \n",
      "998      6960      johnson&johnson     Neutral   \n",
      "\n",
      "                                                 Tweet  \n",
      "0    BBC News - Amazon boss Jeff Bezos rejects clai...  \n",
      "1    @Microsoft Why do I pay for WORD when it funct...  \n",
      "2    CSGO matchmaking is so full of closet hacking,...  \n",
      "3    Now the President is slapping Americans in the...  \n",
      "4    Hi @EAHelp I’ve had Madeleine McCann in my cel...  \n",
      "..                                                 ...  \n",
      "994  ⭐️ Toronto is the arts and culture capital of ...  \n",
      "995  tHIS IS ACTUALLY A GOOD MOVE TOT BRING MORE VI...  \n",
      "996  Today sucked so it’s time to drink wine n play...  \n",
      "997  Bought a fraction of Microsoft today. Small wins.  \n",
      "998  Johnson & Johnson to stop selling talc baby po...  \n",
      "\n",
      "[999 rows x 4 columns]\n"
     ]
    }
   ],
   "source": [
    "# Add the new column names on top\n",
    "new_columns = ['Tweet ID', 'Borderlands', 'Sentiment', 'Tweet']\n",
    "validation_data.columns = new_columns\n",
    "\n",
    "print(validation_data)"
   ]
  },
  {
   "cell_type": "code",
   "execution_count": 7,
   "metadata": {},
   "outputs": [
    {
     "name": "stdout",
     "output_type": "stream",
     "text": [
      "Training Data:\n",
      "Positive: 20831\n",
      "Negative: 22542\n",
      "Neutral: 18318\n",
      "\n",
      "Validation Data:\n",
      "Positive: 277\n",
      "Negative: 266\n",
      "Neutral: 285\n"
     ]
    }
   ],
   "source": [
    "\n",
    "# Training data\n",
    "train_positive = train_data[train_data['Sentiment'] == 'Positive'].shape[0]\n",
    "train_negative = train_data[train_data['Sentiment'] == 'Negative'].shape[0]\n",
    "train_neutral = train_data[train_data['Sentiment'] == 'Neutral'].shape[0]\n",
    "\n",
    "print(\"Training Data:\")\n",
    "print(\"Positive:\", train_positive)\n",
    "print(\"Negative:\", train_negative)\n",
    "print(\"Neutral:\", train_neutral)\n",
    "\n",
    "# Validation data\n",
    "val_positive = validation_data[validation_data['Sentiment'] == 'Positive'].shape[0]\n",
    "val_negative = validation_data[validation_data['Sentiment'] == 'Negative'].shape[0]\n",
    "val_neutral = validation_data[validation_data['Sentiment'] == 'Neutral'].shape[0]\n",
    "\n",
    "print(\"\\nValidation Data:\")\n",
    "print(\"Positive:\", val_positive)\n",
    "print(\"Negative:\", val_negative)\n",
    "print(\"Neutral:\", val_neutral)\n"
   ]
  },
  {
   "cell_type": "code",
   "execution_count": 8,
   "metadata": {},
   "outputs": [
    {
     "data": {
      "image/png": "[encoded data removed]",
      "text/plain": [
       "<Figure size 720x360 with 2 Axes>"
      ]
     },
     "metadata": {},
     "output_type": "display_data"
    }
   ],
   "source": [
    "\n",
    "# Data\n",
    "train_sentiments = [train_positive, train_negative, train_neutral]\n",
    "val_sentiments = [val_positive, val_negative, val_neutral]\n",
    "labels = ['Positive', 'Negative', 'Neutral']\n",
    "\n",
    "# Plotting\n",
    "fig, axes = plt.subplots(1, 2, figsize=(10, 5))\n",
    "\n",
    "# Training data\n",
    "axes[0].pie(train_sentiments, labels=labels, autopct='%1.1f%%', startangle=140)\n",
    "axes[0].set_title('Training Data Sentiment Distribution')\n",
    "\n",
    "# Validation data\n",
    "axes[1].pie(val_sentiments, labels=labels, autopct='%1.1f%%', startangle=140)\n",
    "axes[1].set_title('Validation Data Sentiment Distribution')\n",
    "\n",
    "plt.show()\n"
   ]
  },
  {
   "cell_type": "code",
   "execution_count": 9,
   "metadata": {},
   "outputs": [
    {
     "data": {
      "image/png": "[encoded data removed]",
      "text/plain": [
       "<Figure size 432x288 with 1 Axes>"
      ]
     },
     "metadata": {
      "needs_background": "light"
     },
     "output_type": "display_data"
    }
   ],
   "source": [
    "length_train = train_data['Tweet'].str.len()\n",
    "length_val = validation_data['Tweet'].str.len()\n",
    "\n",
    "plt.hist(length_train, bins=20, label=\"train_tweets\")\n",
    "plt.hist(length_val, bins=20, label=\"val_tweets\")\n",
    "plt.legend()\n",
    "plt.show()"
   ]
  },
  {
   "cell_type": "code",
   "execution_count": 10,
   "metadata": {},
   "outputs": [
    {
     "name": "stdout",
     "output_type": "stream",
     "text": [
      "Train data: (71981, 4)\n"
     ]
    }
   ],
   "source": [
    "train_data.drop_duplicates(inplace=True)\n",
    "print(\"Train data:\", train_data.shape)\n"
   ]
  },
  {
   "cell_type": "code",
   "execution_count": 11,
   "metadata": {},
   "outputs": [
    {
     "name": "stdout",
     "output_type": "stream",
     "text": [
      "Validation data: (999, 4)\n"
     ]
    }
   ],
   "source": [
    "validation_data.drop_duplicates(inplace=True)\n",
    "print(\"Validation data:\", validation_data.shape)\n"
   ]
  },
  {
   "cell_type": "code",
   "execution_count": 12,
   "metadata": {},
   "outputs": [
    {
     "data": {
      "text/html": [
       "<div>\n",
       "<style scoped>\n",
       "    .dataframe tbody tr th:only-of-type {\n",
       "        vertical-align: middle;\n",
       "    }\n",
       "\n",
       "    .dataframe tbody tr th {\n",
       "        vertical-align: top;\n",
       "    }\n",
       "\n",
       "    .dataframe thead th {\n",
       "        text-align: right;\n",
       "    }\n",
       "</style>\n",
       "<table border=\"1\" class=\"dataframe\">\n",
       "  <thead>\n",
       "    <tr style=\"text-align: right;\">\n",
       "      <th></th>\n",
       "      <th>Tweet ID</th>\n",
       "      <th>Borderlands</th>\n",
       "      <th>Sentiment</th>\n",
       "      <th>Tweet</th>\n",
       "      <th>len</th>\n",
       "    </tr>\n",
       "  </thead>\n",
       "  <tbody>\n",
       "    <tr>\n",
       "      <th>0</th>\n",
       "      <td>2401</td>\n",
       "      <td>Borderlands</td>\n",
       "      <td>Positive</td>\n",
       "      <td>I am coming to the borders and I will kill you...</td>\n",
       "      <td>51.0</td>\n",
       "    </tr>\n",
       "    <tr>\n",
       "      <th>1</th>\n",
       "      <td>2401</td>\n",
       "      <td>Borderlands</td>\n",
       "      <td>Positive</td>\n",
       "      <td>im getting on borderlands and i will kill you ...</td>\n",
       "      <td>50.0</td>\n",
       "    </tr>\n",
       "    <tr>\n",
       "      <th>2</th>\n",
       "      <td>2401</td>\n",
       "      <td>Borderlands</td>\n",
       "      <td>Positive</td>\n",
       "      <td>im coming on borderlands and i will murder you...</td>\n",
       "      <td>51.0</td>\n",
       "    </tr>\n",
       "    <tr>\n",
       "      <th>3</th>\n",
       "      <td>2401</td>\n",
       "      <td>Borderlands</td>\n",
       "      <td>Positive</td>\n",
       "      <td>im getting on borderlands 2 and i will murder ...</td>\n",
       "      <td>57.0</td>\n",
       "    </tr>\n",
       "    <tr>\n",
       "      <th>4</th>\n",
       "      <td>2401</td>\n",
       "      <td>Borderlands</td>\n",
       "      <td>Positive</td>\n",
       "      <td>im getting into borderlands and i can murder y...</td>\n",
       "      <td>53.0</td>\n",
       "    </tr>\n",
       "    <tr>\n",
       "      <th>5</th>\n",
       "      <td>2402</td>\n",
       "      <td>Borderlands</td>\n",
       "      <td>Positive</td>\n",
       "      <td>So I spent a few hours making something for fu...</td>\n",
       "      <td>286.0</td>\n",
       "    </tr>\n",
       "    <tr>\n",
       "      <th>6</th>\n",
       "      <td>2402</td>\n",
       "      <td>Borderlands</td>\n",
       "      <td>Positive</td>\n",
       "      <td>So I spent a couple of hours doing something f...</td>\n",
       "      <td>293.0</td>\n",
       "    </tr>\n",
       "    <tr>\n",
       "      <th>7</th>\n",
       "      <td>2402</td>\n",
       "      <td>Borderlands</td>\n",
       "      <td>Positive</td>\n",
       "      <td>So I spent a few hours doing something for fun...</td>\n",
       "      <td>139.0</td>\n",
       "    </tr>\n",
       "    <tr>\n",
       "      <th>8</th>\n",
       "      <td>2402</td>\n",
       "      <td>Borderlands</td>\n",
       "      <td>Positive</td>\n",
       "      <td>So I spent a few hours making something for fu...</td>\n",
       "      <td>283.0</td>\n",
       "    </tr>\n",
       "    <tr>\n",
       "      <th>9</th>\n",
       "      <td>2402</td>\n",
       "      <td>Borderlands</td>\n",
       "      <td>Positive</td>\n",
       "      <td>2010 So I spent a few hours making something f...</td>\n",
       "      <td>288.0</td>\n",
       "    </tr>\n",
       "  </tbody>\n",
       "</table>\n",
       "</div>"
      ],
      "text/plain": [
       "   Tweet ID  Borderlands Sentiment  \\\n",
       "0      2401  Borderlands  Positive   \n",
       "1      2401  Borderlands  Positive   \n",
       "2      2401  Borderlands  Positive   \n",
       "3      2401  Borderlands  Positive   \n",
       "4      2401  Borderlands  Positive   \n",
       "5      2402  Borderlands  Positive   \n",
       "6      2402  Borderlands  Positive   \n",
       "7      2402  Borderlands  Positive   \n",
       "8      2402  Borderlands  Positive   \n",
       "9      2402  Borderlands  Positive   \n",
       "\n",
       "                                               Tweet    len  \n",
       "0  I am coming to the borders and I will kill you...   51.0  \n",
       "1  im getting on borderlands and i will kill you ...   50.0  \n",
       "2  im coming on borderlands and i will murder you...   51.0  \n",
       "3  im getting on borderlands 2 and i will murder ...   57.0  \n",
       "4  im getting into borderlands and i can murder y...   53.0  \n",
       "5  So I spent a few hours making something for fu...  286.0  \n",
       "6  So I spent a couple of hours doing something f...  293.0  \n",
       "7  So I spent a few hours doing something for fun...  139.0  \n",
       "8  So I spent a few hours making something for fu...  283.0  \n",
       "9  2010 So I spent a few hours making something f...  288.0  "
      ]
     },
     "execution_count": 12,
     "metadata": {},
     "output_type": "execute_result"
    }
   ],
   "source": [
    "# adding a column to represent the length of the tweet\n",
    "\n",
    "train_data['len'] = train_data['Tweet'].str.len()\n",
    "train_data.head(10)\n"
   ]
  },
  {
   "cell_type": "code",
   "execution_count": 13,
   "metadata": {},
   "outputs": [
    {
     "data": {
      "text/html": [
       "<div>\n",
       "<style scoped>\n",
       "    .dataframe tbody tr th:only-of-type {\n",
       "        vertical-align: middle;\n",
       "    }\n",
       "\n",
       "    .dataframe tbody tr th {\n",
       "        vertical-align: top;\n",
       "    }\n",
       "\n",
       "    .dataframe thead th {\n",
       "        text-align: right;\n",
       "    }\n",
       "</style>\n",
       "<table border=\"1\" class=\"dataframe\">\n",
       "  <thead>\n",
       "    <tr style=\"text-align: right;\">\n",
       "      <th></th>\n",
       "      <th>Tweet ID</th>\n",
       "      <th>Borderlands</th>\n",
       "      <th>Sentiment</th>\n",
       "      <th>Tweet</th>\n",
       "      <th>len</th>\n",
       "    </tr>\n",
       "  </thead>\n",
       "  <tbody>\n",
       "    <tr>\n",
       "      <th>0</th>\n",
       "      <td>352</td>\n",
       "      <td>Amazon</td>\n",
       "      <td>Neutral</td>\n",
       "      <td>BBC News - Amazon boss Jeff Bezos rejects clai...</td>\n",
       "      <td>109</td>\n",
       "    </tr>\n",
       "    <tr>\n",
       "      <th>1</th>\n",
       "      <td>8312</td>\n",
       "      <td>Microsoft</td>\n",
       "      <td>Negative</td>\n",
       "      <td>@Microsoft Why do I pay for WORD when it funct...</td>\n",
       "      <td>91</td>\n",
       "    </tr>\n",
       "    <tr>\n",
       "      <th>2</th>\n",
       "      <td>4371</td>\n",
       "      <td>CS-GO</td>\n",
       "      <td>Negative</td>\n",
       "      <td>CSGO matchmaking is so full of closet hacking,...</td>\n",
       "      <td>71</td>\n",
       "    </tr>\n",
       "    <tr>\n",
       "      <th>3</th>\n",
       "      <td>4433</td>\n",
       "      <td>Google</td>\n",
       "      <td>Neutral</td>\n",
       "      <td>Now the President is slapping Americans in the...</td>\n",
       "      <td>170</td>\n",
       "    </tr>\n",
       "    <tr>\n",
       "      <th>4</th>\n",
       "      <td>6273</td>\n",
       "      <td>FIFA</td>\n",
       "      <td>Negative</td>\n",
       "      <td>Hi @EAHelp I’ve had Madeleine McCann in my cel...</td>\n",
       "      <td>268</td>\n",
       "    </tr>\n",
       "  </tbody>\n",
       "</table>\n",
       "</div>"
      ],
      "text/plain": [
       "   Tweet ID Borderlands Sentiment  \\\n",
       "0       352      Amazon   Neutral   \n",
       "1      8312   Microsoft  Negative   \n",
       "2      4371       CS-GO  Negative   \n",
       "3      4433      Google   Neutral   \n",
       "4      6273        FIFA  Negative   \n",
       "\n",
       "                                               Tweet  len  \n",
       "0  BBC News - Amazon boss Jeff Bezos rejects clai...  109  \n",
       "1  @Microsoft Why do I pay for WORD when it funct...   91  \n",
       "2  CSGO matchmaking is so full of closet hacking,...   71  \n",
       "3  Now the President is slapping Americans in the...  170  \n",
       "4  Hi @EAHelp I’ve had Madeleine McCann in my cel...  268  "
      ]
     },
     "execution_count": 13,
     "metadata": {},
     "output_type": "execute_result"
    }
   ],
   "source": [
    "validation_data['len'] = validation_data['Tweet'].str.len()\n",
    "validation_data.head()"
   ]
  },
  {
   "cell_type": "code",
   "execution_count": 14,
   "metadata": {},
   "outputs": [
    {
     "data": {
      "text/plain": [
       "array(['Borderlands', 'CallOfDutyBlackopsColdWar', 'Amazon', 'Overwatch',\n",
       "       'Xbox(Xseries)', 'NBA2K', 'Dota2', 'PlayStation5(PS5)',\n",
       "       'WorldOfCraft', 'CS-GO', 'Google', 'AssassinsCreed', 'ApexLegends',\n",
       "       'LeagueOfLegends', 'Fortnite', 'Microsoft', 'Hearthstone',\n",
       "       'Battlefield', 'PlayerUnknownsBattlegrounds(PUBG)', 'Verizon',\n",
       "       'HomeDepot', 'FIFA', 'RedDeadRedemption(RDR)', 'CallOfDuty',\n",
       "       'TomClancysRainbowSix', 'Facebook', 'GrandTheftAuto(GTA)',\n",
       "       'MaddenNFL', 'johnson&johnson', 'Cyberpunk2077',\n",
       "       'TomClancysGhostRecon', 'Nvidia'], dtype=object)"
      ]
     },
     "execution_count": 14,
     "metadata": {},
     "output_type": "execute_result"
    }
   ],
   "source": [
    "train_data.Borderlands.unique()"
   ]
  },
  {
   "cell_type": "code",
   "execution_count": 15,
   "metadata": {},
   "outputs": [
    {
     "data": {
      "text/plain": [
       "array(['Amazon', 'Microsoft', 'CS-GO', 'Google', 'FIFA', 'MaddenNFL',\n",
       "       'TomClancysRainbowSix', 'AssassinsCreed', 'CallOfDuty', 'Dota2',\n",
       "       'Verizon', 'NBA2K', 'Nvidia', 'GrandTheftAuto(GTA)',\n",
       "       'RedDeadRedemption(RDR)', 'Hearthstone', 'ApexLegends',\n",
       "       'Overwatch', 'PlayerUnknownsBattlegrounds(PUBG)', 'Borderlands',\n",
       "       'PlayStation5(PS5)', 'johnson&johnson', 'Fortnite',\n",
       "       'Xbox(Xseries)', 'CallOfDutyBlackopsColdWar', 'Facebook',\n",
       "       'HomeDepot', 'Cyberpunk2077', 'TomClancysGhostRecon',\n",
       "       'WorldOfCraft', 'LeagueOfLegends', 'Battlefield'], dtype=object)"
      ]
     },
     "execution_count": 15,
     "metadata": {},
     "output_type": "execute_result"
    }
   ],
   "source": [
    "validation_data.Borderlands.unique()"
   ]
  },
  {
   "cell_type": "markdown",
   "metadata": {},
   "source": [
    "### 2.2 Data Preprocessing"
   ]
  },
  {
   "cell_type": "code",
   "execution_count": 16,
   "metadata": {},
   "outputs": [
    {
     "name": "stderr",
     "output_type": "stream",
     "text": [
      "[nltk_data] Downloading package stopwords to\n",
      "[nltk_data]     C:\\Users\\HP\\AppData\\Roaming\\nltk_data...\n",
      "[nltk_data]   Package stopwords is already up-to-date!\n",
      "[nltk_data] Downloading package punkt to\n",
      "[nltk_data]     C:\\Users\\HP\\AppData\\Roaming\\nltk_data...\n",
      "[nltk_data]   Package punkt is already up-to-date!\n",
      "[nltk_data] Downloading package wordnet to\n",
      "[nltk_data]     C:\\Users\\HP\\AppData\\Roaming\\nltk_data...\n",
      "[nltk_data]   Package wordnet is already up-to-date!\n",
      "[nltk_data] Downloading package omw-1.4 to\n",
      "[nltk_data]     C:\\Users\\HP\\AppData\\Roaming\\nltk_data...\n",
      "[nltk_data]   Package omw-1.4 is already up-to-date!\n"
     ]
    }
   ],
   "source": [
    "import re\n",
    "import nltk\n",
    "from nltk.corpus import stopwords\n",
    "from nltk.tokenize import word_tokenize\n",
    "from nltk.stem import WordNetLemmatizer, PorterStemmer  \n",
    "\n",
    "\n",
    "nltk.download('stopwords')\n",
    "nltk.download('punkt')\n",
    "nltk.download('wordnet')\n",
    "nltk.download('omw-1.4')\n",
    "\n",
    "def preprocess_text(text):\n",
    "    # Check if the text is NaN\n",
    "    if pd.isnull(text):\n",
    "        return \"\"\n",
    "    \n",
    "    # Convert to lowercase\n",
    "    text = text.lower()\n",
    "    \n",
    "    # Remove special characters, punctuation, and numbers\n",
    "    text = re.sub(r\"[^a-zA-Z\\s]\", \"\", text)\n",
    "    \n",
    "    # Tokenization\n",
    "    tokens = word_tokenize(text)\n",
    "    \n",
    "    # Remove stop words\n",
    "    stop_words = set(stopwords.words('english'))\n",
    "    filtered_tokens = [word for word in tokens if word not in stop_words]\n",
    "    \n",
    "    # Lemmatization\n",
    "    lemmatizer = WordNetLemmatizer()\n",
    "    lemmatized_tokens = [lemmatizer.lemmatize(word) for word in filtered_tokens]\n",
    "    \n",
    "    # Join tokens back into a single string\n",
    "    preprocessed_text = ' '.join(lemmatized_tokens)\n",
    "    \n",
    "    return preprocessed_text"
   ]
  },
  {
   "cell_type": "code",
   "execution_count": 17,
   "metadata": {},
   "outputs": [
    {
     "data": {
      "text/html": [
       "<div>\n",
       "<style scoped>\n",
       "    .dataframe tbody tr th:only-of-type {\n",
       "        vertical-align: middle;\n",
       "    }\n",
       "\n",
       "    .dataframe tbody tr th {\n",
       "        vertical-align: top;\n",
       "    }\n",
       "\n",
       "    .dataframe thead th {\n",
       "        text-align: right;\n",
       "    }\n",
       "</style>\n",
       "<table border=\"1\" class=\"dataframe\">\n",
       "  <thead>\n",
       "    <tr style=\"text-align: right;\">\n",
       "      <th></th>\n",
       "      <th>Tweet ID</th>\n",
       "      <th>Borderlands</th>\n",
       "      <th>Sentiment</th>\n",
       "      <th>Tweet</th>\n",
       "      <th>len</th>\n",
       "      <th>preprocessed_text</th>\n",
       "    </tr>\n",
       "  </thead>\n",
       "  <tbody>\n",
       "    <tr>\n",
       "      <th>0</th>\n",
       "      <td>2401</td>\n",
       "      <td>Borderlands</td>\n",
       "      <td>Positive</td>\n",
       "      <td>I am coming to the borders and I will kill you...</td>\n",
       "      <td>51.0</td>\n",
       "      <td>coming border kill</td>\n",
       "    </tr>\n",
       "    <tr>\n",
       "      <th>1</th>\n",
       "      <td>2401</td>\n",
       "      <td>Borderlands</td>\n",
       "      <td>Positive</td>\n",
       "      <td>im getting on borderlands and i will kill you ...</td>\n",
       "      <td>50.0</td>\n",
       "      <td>im getting borderland kill</td>\n",
       "    </tr>\n",
       "    <tr>\n",
       "      <th>2</th>\n",
       "      <td>2401</td>\n",
       "      <td>Borderlands</td>\n",
       "      <td>Positive</td>\n",
       "      <td>im coming on borderlands and i will murder you...</td>\n",
       "      <td>51.0</td>\n",
       "      <td>im coming borderland murder</td>\n",
       "    </tr>\n",
       "    <tr>\n",
       "      <th>3</th>\n",
       "      <td>2401</td>\n",
       "      <td>Borderlands</td>\n",
       "      <td>Positive</td>\n",
       "      <td>im getting on borderlands 2 and i will murder ...</td>\n",
       "      <td>57.0</td>\n",
       "      <td>im getting borderland murder</td>\n",
       "    </tr>\n",
       "    <tr>\n",
       "      <th>4</th>\n",
       "      <td>2401</td>\n",
       "      <td>Borderlands</td>\n",
       "      <td>Positive</td>\n",
       "      <td>im getting into borderlands and i can murder y...</td>\n",
       "      <td>53.0</td>\n",
       "      <td>im getting borderland murder</td>\n",
       "    </tr>\n",
       "  </tbody>\n",
       "</table>\n",
       "</div>"
      ],
      "text/plain": [
       "   Tweet ID  Borderlands Sentiment  \\\n",
       "0      2401  Borderlands  Positive   \n",
       "1      2401  Borderlands  Positive   \n",
       "2      2401  Borderlands  Positive   \n",
       "3      2401  Borderlands  Positive   \n",
       "4      2401  Borderlands  Positive   \n",
       "\n",
       "                                               Tweet   len  \\\n",
       "0  I am coming to the borders and I will kill you...  51.0   \n",
       "1  im getting on borderlands and i will kill you ...  50.0   \n",
       "2  im coming on borderlands and i will murder you...  51.0   \n",
       "3  im getting on borderlands 2 and i will murder ...  57.0   \n",
       "4  im getting into borderlands and i can murder y...  53.0   \n",
       "\n",
       "              preprocessed_text  \n",
       "0            coming border kill  \n",
       "1    im getting borderland kill  \n",
       "2   im coming borderland murder  \n",
       "3  im getting borderland murder  \n",
       "4  im getting borderland murder  "
      ]
     },
     "execution_count": 17,
     "metadata": {},
     "output_type": "execute_result"
    }
   ],
   "source": [
    "\n",
    "# Apply the preprocessing function to the text\n",
    "train_data['preprocessed_text'] = train_data['Tweet'].apply(preprocess_text)\n",
    "\n",
    "# Display the preprocessed text\n",
    "train_data.head()   \n",
    "\n"
   ]
  },
  {
   "cell_type": "code",
   "execution_count": 18,
   "metadata": {},
   "outputs": [
    {
     "data": {
      "text/html": [
       "<div>\n",
       "<style scoped>\n",
       "    .dataframe tbody tr th:only-of-type {\n",
       "        vertical-align: middle;\n",
       "    }\n",
       "\n",
       "    .dataframe tbody tr th {\n",
       "        vertical-align: top;\n",
       "    }\n",
       "\n",
       "    .dataframe thead th {\n",
       "        text-align: right;\n",
       "    }\n",
       "</style>\n",
       "<table border=\"1\" class=\"dataframe\">\n",
       "  <thead>\n",
       "    <tr style=\"text-align: right;\">\n",
       "      <th></th>\n",
       "      <th>Tweet ID</th>\n",
       "      <th>Borderlands</th>\n",
       "      <th>Sentiment</th>\n",
       "      <th>Tweet</th>\n",
       "      <th>len</th>\n",
       "      <th>preprocessed_text</th>\n",
       "    </tr>\n",
       "  </thead>\n",
       "  <tbody>\n",
       "    <tr>\n",
       "      <th>0</th>\n",
       "      <td>352</td>\n",
       "      <td>Amazon</td>\n",
       "      <td>Neutral</td>\n",
       "      <td>BBC News - Amazon boss Jeff Bezos rejects clai...</td>\n",
       "      <td>109</td>\n",
       "      <td>bbc news amazon bos jeff bezos reject claim co...</td>\n",
       "    </tr>\n",
       "    <tr>\n",
       "      <th>1</th>\n",
       "      <td>8312</td>\n",
       "      <td>Microsoft</td>\n",
       "      <td>Negative</td>\n",
       "      <td>@Microsoft Why do I pay for WORD when it funct...</td>\n",
       "      <td>91</td>\n",
       "      <td>microsoft pay word function poorly samsungus c...</td>\n",
       "    </tr>\n",
       "    <tr>\n",
       "      <th>2</th>\n",
       "      <td>4371</td>\n",
       "      <td>CS-GO</td>\n",
       "      <td>Negative</td>\n",
       "      <td>CSGO matchmaking is so full of closet hacking,...</td>\n",
       "      <td>71</td>\n",
       "      <td>csgo matchmaking full closet hacking truly awf...</td>\n",
       "    </tr>\n",
       "    <tr>\n",
       "      <th>3</th>\n",
       "      <td>4433</td>\n",
       "      <td>Google</td>\n",
       "      <td>Neutral</td>\n",
       "      <td>Now the President is slapping Americans in the...</td>\n",
       "      <td>170</td>\n",
       "      <td>president slapping american face really commit...</td>\n",
       "    </tr>\n",
       "    <tr>\n",
       "      <th>4</th>\n",
       "      <td>6273</td>\n",
       "      <td>FIFA</td>\n",
       "      <td>Negative</td>\n",
       "      <td>Hi @EAHelp I’ve had Madeleine McCann in my cel...</td>\n",
       "      <td>268</td>\n",
       "      <td>hi eahelp ive madeleine mccann cellar past yea...</td>\n",
       "    </tr>\n",
       "  </tbody>\n",
       "</table>\n",
       "</div>"
      ],
      "text/plain": [
       "   Tweet ID Borderlands Sentiment  \\\n",
       "0       352      Amazon   Neutral   \n",
       "1      8312   Microsoft  Negative   \n",
       "2      4371       CS-GO  Negative   \n",
       "3      4433      Google   Neutral   \n",
       "4      6273        FIFA  Negative   \n",
       "\n",
       "                                               Tweet  len  \\\n",
       "0  BBC News - Amazon boss Jeff Bezos rejects clai...  109   \n",
       "1  @Microsoft Why do I pay for WORD when it funct...   91   \n",
       "2  CSGO matchmaking is so full of closet hacking,...   71   \n",
       "3  Now the President is slapping Americans in the...  170   \n",
       "4  Hi @EAHelp I’ve had Madeleine McCann in my cel...  268   \n",
       "\n",
       "                                   preprocessed_text  \n",
       "0  bbc news amazon bos jeff bezos reject claim co...  \n",
       "1  microsoft pay word function poorly samsungus c...  \n",
       "2  csgo matchmaking full closet hacking truly awf...  \n",
       "3  president slapping american face really commit...  \n",
       "4  hi eahelp ive madeleine mccann cellar past yea...  "
      ]
     },
     "execution_count": 18,
     "metadata": {},
     "output_type": "execute_result"
    }
   ],
   "source": [
    "# Apply the preprocessing function to the text\n",
    "validation_data['preprocessed_text'] = validation_data['Tweet'].apply(preprocess_text)\n",
    "\n",
    "# Display the preprocessed text\n",
    "validation_data.head()   "
   ]
  },
  {
   "cell_type": "markdown",
   "metadata": {},
   "source": [
    "# 3. Feature Extraction \n"
   ]
  },
  {
   "cell_type": "markdown",
   "metadata": {},
   "source": [
    "Bag-of-Words Feautures "
   ]
  },
  {
   "cell_type": "code",
   "execution_count": 19,
   "metadata": {},
   "outputs": [],
   "source": [
    "from sklearn.feature_extraction.text import CountVectorizer, TfidfVectorizer"
   ]
  },
  {
   "cell_type": "code",
   "execution_count": 20,
   "metadata": {},
   "outputs": [
    {
     "name": "stdout",
     "output_type": "stream",
     "text": [
      "Train Bag-of-Words (BoW) features:\n"
     ]
    },
    {
     "data": {
      "text/plain": [
       "(71981, 25048)"
      ]
     },
     "execution_count": 20,
     "metadata": {},
     "output_type": "execute_result"
    }
   ],
   "source": [
    "# Bag-of-Words (BoW) feature extraction on the train set\n",
    "bow_vectorizer = CountVectorizer(max_df=0.95, min_df=2)  # Initialize CountVectorizer\n",
    "train_bow = bow_vectorizer.fit_transform(train_data['preprocessed_text'])  # Fit and transform the preprocessed texts\n",
    "print(\"Train Bag-of-Words (BoW) features:\")\n",
    "train_bow.shape"
   ]
  },
  {
   "cell_type": "code",
   "execution_count": 21,
   "metadata": {},
   "outputs": [
    {
     "name": "stdout",
     "output_type": "stream",
     "text": [
      "Validation Bag-of-Words (BoW) features:\n"
     ]
    },
    {
     "data": {
      "text/plain": [
       "(999, 1422)"
      ]
     },
     "execution_count": 21,
     "metadata": {},
     "output_type": "execute_result"
    }
   ],
   "source": [
    "# Bag-of-Words (BoW) feature extraction on the validation dataset\n",
    "bow_vectorizer = CountVectorizer(max_features=5000, max_df=0.95, min_df=2)  # Initialize CountVectorizer\n",
    "val_bow = bow_vectorizer.fit_transform(validation_data['preprocessed_text'])  # Fit and transform the preprocessed texts\n",
    "print(\"Validation Bag-of-Words (BoW) features:\")\n",
    "val_bow.shape"
   ]
  },
  {
   "cell_type": "code",
   "execution_count": 22,
   "metadata": {},
   "outputs": [
    {
     "name": "stdout",
     "output_type": "stream",
     "text": [
      "\n",
      "Train TF-IDF features:\n"
     ]
    },
    {
     "data": {
      "text/plain": [
       "(71981, 25048)"
      ]
     },
     "execution_count": 22,
     "metadata": {},
     "output_type": "execute_result"
    }
   ],
   "source": [
    "# TF-IDF feature extraction on the train set \n",
    "tfidf_vectorizer = TfidfVectorizer( max_df=0.95, min_df=2)  # Initialize TfidfVectorizer\n",
    "train_tfidf = tfidf_vectorizer.fit_transform(train_data['preprocessed_text'])  # Fit and transform the preprocessed texts\n",
    "print(\"\\nTrain TF-IDF features:\")\n",
    "train_tfidf.shape "
   ]
  },
  {
   "cell_type": "code",
   "execution_count": 23,
   "metadata": {},
   "outputs": [
    {
     "name": "stdout",
     "output_type": "stream",
     "text": [
      "\n",
      "Validation TF-IDF features:\n"
     ]
    },
    {
     "data": {
      "text/plain": [
       "(999, 4799)"
      ]
     },
     "execution_count": 23,
     "metadata": {},
     "output_type": "execute_result"
    }
   ],
   "source": [
    "# TF-IDF feature extraction on the train set \n",
    "tfidf_vectorizer = TfidfVectorizer()  # Initialize TfidfVectorizer\n",
    "val_tfidf = tfidf_vectorizer.fit_transform(validation_data['preprocessed_text'])  # Fit and transform the preprocessed texts\n",
    "print(\"\\nValidation TF-IDF features:\")\n",
    "val_tfidf.shape"
   ]
  },
  {
   "cell_type": "markdown",
   "metadata": {},
   "source": [
    "Word2Vec Embeddings"
   ]
  },
  {
   "cell_type": "code",
   "execution_count": 24,
   "metadata": {},
   "outputs": [],
   "source": [
    "from gensim.models import Word2Vec\n",
    "from nltk.tokenize import word_tokenize"
   ]
  },
  {
   "cell_type": "code",
   "execution_count": 40,
   "metadata": {},
   "outputs": [
    {
     "name": "stdout",
     "output_type": "stream",
     "text": [
      "35627\n",
      "Train Word embeddings for 'tweet': [-0.23515667  0.397098    0.6442307   0.5693868   0.383001    0.16850568\n",
      "  0.94083333  0.40596876 -0.30690378  0.1080312  -0.2795235  -0.98399556\n",
      "  0.14014094 -0.41551146  0.78242403 -0.6173317   0.5144813  -0.6585553\n",
      " -0.51576406 -0.5507543  -0.43280944  0.63520426  0.22191516  0.12445121\n",
      " -0.16329606 -0.70125407 -0.3267698  -0.02538605 -0.7420035  -0.34296\n",
      "  0.66204053 -0.32972994  0.9793449  -0.34864303 -0.5596255   0.84579885\n",
      "  0.11930018 -0.14298987 -0.19143835  0.09830177  0.3658382  -0.6822731\n",
      "  0.3314501   0.52667075  0.12857394  0.03571326 -0.40726742 -0.75968254\n",
      " -0.4877504   0.8174068  -0.3406381  -0.37748104  0.1675563   0.04042452\n",
      " -0.0070559  -0.3271534   0.5224954   0.6440578  -0.8716538   0.6701783\n",
      " -0.3962375  -0.02376523 -0.13073781 -0.8522655  -1.333975    0.05855082\n",
      "  0.02285606  0.04536531 -0.8407022   0.29501852 -0.18444884 -0.5635555\n",
      "  0.18276565 -0.47951308  0.82562613  0.19485916 -0.37162086  0.2829828\n",
      " -0.5763723  -0.07176531 -0.5171075   0.46650377 -0.41225758  0.94353265\n",
      " -0.47685346  0.96617365 -0.37440282  0.6037487   0.7487325  -0.6263774\n",
      "  0.18469316 -0.8165335   0.67029613  0.09495628  0.5478799   0.05605969\n",
      " -0.41895992 -0.5905965  -0.02117829 -0.65407467]\n"
     ]
    }
   ],
   "source": [
    "# Tokenize the preprocessed text data\n",
    "tokenized_texts = [word_tokenize(text.lower()) for text in train_data['preprocessed_text']]\n",
    "\n",
    "# Train Word2Vec model\n",
    "word2vec_model = Word2Vec(sentences=tokenized_texts, vector_size=100, window=5, min_count=1, workers=4)\n",
    "\n",
    "# Get word embeddings\n",
    "train_w2v= word2vec_model.wv\n",
    "print(len(train_w2v))\n",
    "print(\"Train Word embeddings for 'tweet':\", train_w2v['tweet'])\n",
    "\n",
    "\n",
    "\n",
    "\n",
    "\n"
   ]
  },
  {
   "cell_type": "code",
   "execution_count": 26,
   "metadata": {},
   "outputs": [
    {
     "name": "stdout",
     "output_type": "stream",
     "text": [
      "4816\n",
      "Word embeddings for 'tweet': [-0.00581342 -0.0081362  -0.00628567 -0.00214547 -0.00315375  0.00530076\n",
      "  0.00363614  0.0072567  -0.00153495 -0.00462205 -0.00107539  0.00030312\n",
      " -0.00287792  0.00902635  0.00712004  0.00048607  0.00859375 -0.00242114\n",
      "  0.00994031 -0.0047803  -0.00783538  0.00217044  0.00675738  0.00665181\n",
      "  0.00024586 -0.00655487  0.00349301  0.00141204 -0.00021786 -0.00579476\n",
      "  0.00407382 -0.00338867 -0.00921674 -0.0041651   0.00980438 -0.00041123\n",
      "  0.00563448  0.00143547 -0.00781784  0.00456445  0.00517496 -0.00118051\n",
      "  0.00285341  0.00269325 -0.00223783  0.00678701  0.0029334   0.00285942\n",
      "  0.00703172 -0.00862836  0.0090529  -0.00534342 -0.0022978   0.00663186\n",
      "  0.00871231 -0.00758732  0.00912465  0.00902642 -0.00099831 -0.00055613\n",
      " -0.00217653 -0.00265823 -0.00699022  0.0069117   0.00094725 -0.00335145\n",
      "  0.00709577  0.00686456  0.00260444 -0.00312821 -0.00530437 -0.00219334\n",
      "  0.0089104   0.00197941 -0.00037924  0.00065403 -0.00273843 -0.00475612\n",
      "  0.0076498  -0.00209315  0.00788817 -0.00273505  0.00269848 -0.00519936\n",
      " -0.00932985 -0.00455512  0.00248742  0.00928594 -0.0061341   0.00555139\n",
      "  0.00134599  0.00515546 -0.00298851 -0.00700638 -0.00082183  0.00074348\n",
      "  0.00378695 -0.00244482 -0.00102187 -0.00202393]\n"
     ]
    }
   ],
   "source": [
    "# Tokenize the preprocessed text data\n",
    "tokenized_texts = [word_tokenize(text.lower()) for text in validation_data['preprocessed_text']]\n",
    "\n",
    "# Train Word2Vec model\n",
    "word2vec_model = Word2Vec(sentences=tokenized_texts, vector_size=100, window=5, min_count=1, workers=4)\n",
    "\n",
    "# Get word embeddings\n",
    "val_w2v = word2vec_model.wv\n",
    "print(len(val_w2v))\n",
    "print(\"Word embeddings for 'tweet':\", val_w2v['tweet'])"
   ]
  },
  {
   "cell_type": "markdown",
   "metadata": {},
   "source": [
    "# 4. Model Building\n",
    "We are now done with all the pre-modeling stages required to get the data in the proper form and shape. We will be building models on the datasets with different feature sets prepared in the earlier sections — Bag-of-Words, TF-IDF, word2vec vectors, and doc2vec vectors. We will use the following algorithms to build models:\n",
    "\n",
    "1. Logistic Regression\n",
    "2. Support Vector Machine\n",
    "3. RandomForest\n",
    "4. XGBoost"
   ]
  },
  {
   "cell_type": "code",
   "execution_count": 27,
   "metadata": {},
   "outputs": [],
   "source": [
    "from sklearn.model_selection import train_test_split\n",
    "from sklearn.preprocessing import StandardScaler\n",
    "from sklearn.linear_model import LogisticRegression\n",
    "from sklearn.model_selection import train_test_split\n",
    "from sklearn.metrics import f1_score, accuracy_score, classification_report, confusion_matrix"
   ]
  },
  {
   "cell_type": "code",
   "execution_count": 28,
   "metadata": {},
   "outputs": [
    {
     "name": "stdout",
     "output_type": "stream",
     "text": [
      "(53985, 25048)\n",
      "(17996, 25048)\n",
      "(53985,)\n",
      "(17996,)\n"
     ]
    }
   ],
   "source": [
    "# splitting the training data into train and valid sets\n",
    "\n",
    "from sklearn.model_selection import train_test_split\n",
    "\n",
    "x_train, x_test, y_train, y_test = train_test_split(train_bow, train_data['Sentiment'], test_size = 0.25, random_state = 42)\n",
    "\n",
    "print(x_train.shape)\n",
    "print(x_test.shape)\n",
    "print(y_train.shape)\n",
    "print(y_test.shape)"
   ]
  },
  {
   "cell_type": "code",
   "execution_count": 29,
   "metadata": {},
   "outputs": [],
   "source": [
    "# # standardization\n",
    "\n",
    "# from sklearn.preprocessing import StandardScaler\n",
    "\n",
    "# sc = StandardScaler()\n",
    "\n",
    "# x_train = sc.fit_transform(x_train)\n",
    "# x_test = sc.transform(x_test)\n",
    "# x_valid = sc.transform(x_valid)\n"
   ]
  },
  {
   "cell_type": "code",
   "execution_count": null,
   "metadata": {},
   "outputs": [],
   "source": []
  },
  {
   "cell_type": "markdown",
   "metadata": {},
   "source": [
    "1. Logistic Regression"
   ]
  },
  {
   "cell_type": "code",
   "execution_count": 30,
   "metadata": {},
   "outputs": [],
   "source": [
    "from sklearn.linear_model import LogisticRegression\n",
    "from sklearn.model_selection import train_test_split\n",
    "from sklearn.metrics import f1_score, accuracy_score, classification_report"
   ]
  },
  {
   "cell_type": "markdown",
   "metadata": {},
   "source": [
    "Bag-Of-Words Features"
   ]
  },
  {
   "cell_type": "code",
   "execution_count": 31,
   "metadata": {},
   "outputs": [],
   "source": [
    "\n",
    "# splitting data into training and test set\n",
    "xtrain_bow, xtest_bow, ytrain, ytest = train_test_split(train_bow, train_data['Sentiment'],  \n",
    "                                                          random_state=42, \n",
    "                                                          test_size=0.3)"
   ]
  },
  {
   "cell_type": "code",
   "execution_count": 32,
   "metadata": {},
   "outputs": [],
   "source": [
    "lreg = LogisticRegression(max_iter=1000)\n",
    "lreg.fit(xtrain_bow, ytrain) # training the model\n",
    "\n",
    "# Predictions\n",
    "lr_preds = lreg.predict(xtest_bow)"
   ]
  },
  {
   "cell_type": "code",
   "execution_count": 33,
   "metadata": {},
   "outputs": [
    {
     "name": "stdout",
     "output_type": "stream",
     "text": [
      "Logistic Regression Accuracy: 0.7989349386432044\n",
      "\n",
      "Classification Report:\n",
      "              precision    recall  f1-score   support\n",
      "\n",
      "  Irrelevant       0.85      0.71      0.77      3788\n",
      "    Negative       0.82      0.84      0.83      6471\n",
      "     Neutral       0.82      0.75      0.79      5347\n",
      "    Positive       0.74      0.85      0.79      5989\n",
      "\n",
      "    accuracy                           0.80     21595\n",
      "   macro avg       0.81      0.79      0.80     21595\n",
      "weighted avg       0.80      0.80      0.80     21595\n",
      "\n"
     ]
    }
   ],
   "source": [
    "# EvaluateAccuracy\n",
    "lr_accuracy = accuracy_score(ytest, lr_preds)\n",
    "print(\"Logistic Regression Accuracy:\", lr_accuracy)\n",
    "\n",
    "# Classification Report\n",
    "print(\"\\nClassification Report:\")\n",
    "print(classification_report(ytest, lr_preds))\n",
    "\n",
    "# # F1 Score\n",
    "# lr_f1_score = f1_score(ytest, lr_preds, average='weighted')  # Use 'weighted' to account for class imbalance\n",
    "# print(\"\\nF1 Score (weighted):\", lr_f1_score)"
   ]
  },
  {
   "cell_type": "markdown",
   "metadata": {},
   "source": [
    "Next is to make predictions for the validation dataset"
   ]
  },
  {
   "cell_type": "markdown",
   "metadata": {},
   "source": [
    "TF-IDF Extraction"
   ]
  },
  {
   "cell_type": "code",
   "execution_count": 34,
   "metadata": {},
   "outputs": [],
   "source": [
    "# splitting data into training and test set\n",
    "xtrain_tfidf, xtest_tfidf, ytrain, ytest = train_test_split(train_tfidf, train_data['Sentiment'],  \n",
    "                                                          random_state=42, \n",
    "                                                          test_size=0.3)"
   ]
  },
  {
   "cell_type": "code",
   "execution_count": 36,
   "metadata": {},
   "outputs": [
    {
     "name": "stdout",
     "output_type": "stream",
     "text": [
      "Logistic Regression Accuracy: 0.7537392915026626\n",
      "\n",
      "Classification Report:\n",
      "              precision    recall  f1-score   support\n",
      "\n",
      "  Irrelevant       0.80      0.63      0.71      3788\n",
      "    Negative       0.77      0.82      0.79      6471\n",
      "     Neutral       0.71      0.73      0.72      5347\n",
      "    Positive       0.75      0.77      0.76      5989\n",
      "\n",
      "    accuracy                           0.75     21595\n",
      "   macro avg       0.76      0.74      0.75     21595\n",
      "weighted avg       0.76      0.75      0.75     21595\n",
      "\n"
     ]
    }
   ],
   "source": [
    "\n",
    "lreg.fit(xtrain_tfidf, ytrain) # training the model\n",
    "\n",
    "# Predictions\n",
    "lr_preds = lreg.predict(xtest_tfidf)\n",
    "\n",
    "# EvaluateAccuracy\n",
    "lr_accuracy = accuracy_score(ytest, lr_preds)\n",
    "print(\"Logistic Regression Accuracy:\", lr_accuracy)\n",
    "\n",
    "# Classification Report\n",
    "print(\"\\nClassification Report:\")\n",
    "print(classification_report(ytest, lr_preds))"
   ]
  },
  {
   "cell_type": "markdown",
   "metadata": {},
   "source": [
    "Word2Vec"
   ]
  },
  {
   "cell_type": "code",
   "execution_count": 41,
   "metadata": {},
   "outputs": [
    {
     "name": "stdout",
     "output_type": "stream",
     "text": [
      "Training data shape: (50386, 100)\n",
      "Test data shape: (21595, 100)\n"
     ]
    }
   ],
   "source": [
    "# Function to compute the average word2vec for each tweet\n",
    "def compute_avg_w2v(text, model):\n",
    "    vectors = [model[word] for word in text if word in model]\n",
    "    return np.mean(vectors, axis=0) if vectors else np.zeros(model.vector_size)\n",
    "\n",
    "# Compute average word2vec for each tweet\n",
    "tweet_embeddings = np.array([compute_avg_w2v(text, train_w2v) for text in tokenized_texts])\n",
    "\n",
    "# Ensure the embeddings have the same number of samples as the sentiment labels\n",
    "assert tweet_embeddings.shape[0] == len(train_data['Sentiment']), \\\n",
    "    f\"Embeddings count {tweet_embeddings.shape[0]} does not match sentiment labels count {len(train_data['Sentiment'])}\"\n",
    "\n",
    "# Splitting data into training and test set\n",
    "xtrain_w2v, xtest_w2v, ytrain, ytest = train_test_split(tweet_embeddings, train_data['Sentiment'],  \n",
    "                                                        random_state=42, \n",
    "                                                        test_size=0.3)\n",
    "\n",
    "\n",
    "print(\"Training data shape:\", xtrain_w2v.shape)\n",
    "print(\"Test data shape:\", xtest_w2v.shape)\n"
   ]
  },
  {
   "cell_type": "code",
   "execution_count": 43,
   "metadata": {},
   "outputs": [
    {
     "name": "stdout",
     "output_type": "stream",
     "text": [
      "Logistic Regression Accuracy: 0.5164621440148183\n",
      "\n",
      "Classification Report:\n",
      "              precision    recall  f1-score   support\n",
      "\n",
      "  Irrelevant       0.46      0.16      0.23      3788\n",
      "    Negative       0.55      0.67      0.61      6471\n",
      "     Neutral       0.46      0.52      0.49      5347\n",
      "    Positive       0.53      0.57      0.55      5989\n",
      "\n",
      "    accuracy                           0.52     21595\n",
      "   macro avg       0.50      0.48      0.47     21595\n",
      "weighted avg       0.51      0.52      0.50     21595\n",
      "\n"
     ]
    }
   ],
   "source": [
    "\n",
    "lreg.fit(xtrain_w2v, ytrain) # training the model\n",
    "\n",
    "# Predictions\n",
    "lr_preds = lreg.predict(xtest_w2v)\n",
    "\n",
    "# EvaluateAccuracy\n",
    "lr_accuracy = accuracy_score(ytest, lr_preds)\n",
    "print(\"Logistic Regression Accuracy:\", lr_accuracy)\n",
    "\n",
    "# Classification Report\n",
    "print(\"\\nClassification Report:\")\n",
    "print(classification_report(ytest, lr_preds))"
   ]
  },
  {
   "cell_type": "markdown",
   "metadata": {},
   "source": [
    "Random Forest \n",
    "\n",
    "Bag-Of-Words "
   ]
  },
  {
   "cell_type": "code",
   "execution_count": 44,
   "metadata": {},
   "outputs": [],
   "source": [
    "from sklearn.ensemble import RandomForestClassifier"
   ]
  },
  {
   "cell_type": "code",
   "execution_count": 46,
   "metadata": {},
   "outputs": [
    {
     "name": "stdout",
     "output_type": "stream",
     "text": [
      "Random Forest Accuracy: 0.8855753646677471\n",
      "\n",
      "Classification Report:\n",
      "              precision    recall  f1-score   support\n",
      "\n",
      "  Irrelevant       0.95      0.81      0.87      3788\n",
      "    Negative       0.89      0.92      0.91      6471\n",
      "     Neutral       0.92      0.85      0.88      5347\n",
      "    Positive       0.83      0.92      0.87      5989\n",
      "\n",
      "    accuracy                           0.89     21595\n",
      "   macro avg       0.90      0.88      0.88     21595\n",
      "weighted avg       0.89      0.89      0.89     21595\n",
      "\n",
      "\n",
      "F1 Score (weighted): 0.8855210718557426\n"
     ]
    }
   ],
   "source": [
    "# Train the Random Forest model\n",
    "rf = RandomForestClassifier(n_estimators=400, random_state=11)\n",
    "rf.fit(xtrain_bow, ytrain)\n",
    "\n",
    "# Make predictions on the test set\n",
    "rf_preds = rf.predict(xtest_bow)\n",
    "\n",
    "# Evaluate Accuracy\n",
    "rf_accuracy = accuracy_score(ytest, rf_preds)\n",
    "print(\"Random Forest Accuracy:\", rf_accuracy)\n",
    "\n",
    "# Classification Report\n",
    "print(\"\\nClassification Report:\")\n",
    "print(classification_report(ytest, rf_preds))\n",
    "\n",
    "# F1 Score\n",
    "rf_f1_score = f1_score(ytest, rf_preds, average='weighted')  # Use 'weighted' to account for class imbalance\n",
    "print(\"\\nF1 Score (weighted):\", rf_f1_score)"
   ]
  },
  {
   "cell_type": "code",
   "execution_count": 47,
   "metadata": {},
   "outputs": [
    {
     "name": "stdout",
     "output_type": "stream",
     "text": [
      "Random Forest Accuracy: 0.8904839083121093\n",
      "\n",
      "Classification Report:\n",
      "              precision    recall  f1-score   support\n",
      "\n",
      "  Irrelevant       0.96      0.81      0.88      3788\n",
      "    Negative       0.90      0.92      0.91      6471\n",
      "     Neutral       0.90      0.87      0.89      5347\n",
      "    Positive       0.83      0.93      0.88      5989\n",
      "\n",
      "    accuracy                           0.89     21595\n",
      "   macro avg       0.90      0.88      0.89     21595\n",
      "weighted avg       0.89      0.89      0.89     21595\n",
      "\n",
      "\n",
      "F1 Score (weighted): 0.8904720085414694\n"
     ]
    }
   ],
   "source": [
    "# Train the Random Forest model\n",
    "rf = RandomForestClassifier(n_estimators=400, random_state=11)\n",
    "rf.fit(xtrain_tfidf, ytrain)\n",
    "\n",
    "# Make predictions on the test set\n",
    "rf_pred = rf.predict(xtest_tfidf)\n",
    "\n",
    "# Evaluate Accuracy\n",
    "rf_accuracy = accuracy_score(ytest, rf_pred)\n",
    "print(\"Random Forest Accuracy:\", rf_accuracy)\n",
    "\n",
    "# Classification Report\n",
    "print(\"\\nClassification Report:\")\n",
    "print(classification_report(ytest, rf_pred))\n",
    "\n",
    "# F1 Score\n",
    "rf_f1_score = f1_score(ytest, rf_pred, average='weighted')  # Use 'weighted' to account for class imbalance\n",
    "print(\"\\nF1 Score (weighted):\", rf_f1_score)"
   ]
  },
  {
   "cell_type": "code",
   "execution_count": null,
   "metadata": {},
   "outputs": [],
   "source": []
  }
 ],
 "metadata": {
  "kernelspec": {
   "display_name": "base",
   "language": "python",
   "name": "python3"
  },
  "language_info": {
   "codemirror_mode": {
    "name": "ipython",
    "version": 3
   },
   "file_extension": ".py",
   "mimetype": "text/x-python",
   "name": "python",
   "nbconvert_exporter": "python",
   "pygments_lexer": "ipython3",
   "version": "3.9.12"
  }
 },
 "nbformat": 4,
 "nbformat_minor": 2
}
